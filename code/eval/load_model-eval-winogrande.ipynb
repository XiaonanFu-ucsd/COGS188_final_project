{
 "cells": [
  {
   "cell_type": "code",
   "execution_count": null,
   "metadata": {},
   "outputs": [],
   "source": [
    "from transformers import AutoModelForCausalLM, AutoTokenizer\n",
    "from datasets import load_dataset\n",
    "import torch\n",
    "import tqdm\n",
    "\n",
    "model_id = \"MBZUAI/LaMini-GPT-124M\"\n",
    "peft_model_id = \"FXNan/gpt2-124M-DPO\"\n",
    "\n",
    "model = AutoModelForCausalLM.from_pretrained(model_id)\n",
    "model.load_adapter(peft_model_id)"
   ]
  },
  {
   "cell_type": "code",
   "execution_count": null,
   "metadata": {},
   "outputs": [],
   "source": [
    "dataset_id = \"allenai/winogrande\"\n",
    "\n",
    "tokenizer = AutoTokenizer.from_pretrained(model_id)\n",
    "\n",
    "ds = load_dataset(dataset_id, \"winogrande_xs\")"
   ]
  },
  {
   "cell_type": "code",
   "execution_count": null,
   "metadata": {},
   "outputs": [],
   "source": [
    "ds_test = ds['validation']\n",
    "print(ds_test)\n",
    "print(ds_test['sentence'][0])\n",
    "print(ds_test['option1'][0])\n",
    "print(ds_test['option2'][0])\n",
    "print(ds_test['answer'][0])"
   ]
  },
  {
   "cell_type": "code",
   "execution_count": null,
   "metadata": {},
   "outputs": [],
   "source": [
    "questions = ds_test['sentence']\n",
    "answers = []\n",
    "for i in range(len(questions)):\n",
    "    answer = ds_test['option1'][i] if ds_test['answer'][i] == 1 else ds_test['option2'][i]\n",
    "    answers.append(answer)"
   ]
  },
  {
   "cell_type": "code",
   "execution_count": null,
   "metadata": {},
   "outputs": [],
   "source": [
    "from string import Template\n",
    "qa_template = \"Below is an instruction that describes a task. Write a response that appropriately completes the request.\\n\\n### Instruction:\\n${q}\\n\\n### Response:\"\n",
    "qa_template = Template(qa_template)\n",
    "\n",
    "model.eval()\n",
    "\n",
    "loss_array = []\n",
    "\n",
    "# for i in range(min(2000, len(questions))):\n",
    "for i in tqdm.tqdm(range(min(100000, len(questions)))):\n",
    "    q = questions[i]\n",
    "    q = \"fill in the blank: \" + q\n",
    "    a = answers[i]\n",
    "    qa = qa_template.substitute(q=q)\n",
    "    q_tokens = tokenizer(qa, return_tensors=\"pt\", max_length=1024, truncation=True)\n",
    "    q_tokens_len = len(q_tokens['input_ids'][0])\n",
    "    tokens = tokenizer(qa+a, return_tensors=\"pt\", max_length=1024, truncation=True)\n",
    "    qa_tokens_len = len(tokens['input_ids'][0])\n",
    "    a_tokens_len = qa_tokens_len - q_tokens_len\n",
    "    if a_tokens_len < 1:\n",
    "        print(f\"Skipping {i}, qa_tokens_len: {qa_tokens_len}, q_tokens_len: {q_tokens_len}, a_tokens_len: {a_tokens_len}\")\n",
    "        print(f\"q: {q}\")\n",
    "        print(f\"a: {a}\")\n",
    "        continue\n",
    "    \n",
    "    with torch.no_grad():\n",
    "        output = model(**tokens)\n",
    "    \n",
    "        logits = output['logits'][:, -a_tokens_len-1:-1, :]\n",
    "        \n",
    "        try:\n",
    "            loss = torch.nn.functional.cross_entropy(logits.view(-1, logits.shape[-1]), tokens['input_ids'][0, -a_tokens_len:].view(-1))\n",
    "        except:\n",
    "            print(f\"Error at {i}\")\n",
    "            print(f\"q_tokens_len: {q_tokens_len}\")\n",
    "            print(f\"qa_tokens_len: {qa_tokens_len}\")\n",
    "        loss_array.append(loss.item())\n",
    "        \n",
    "        \n",
    "print(f\"Mean loss: {sum(loss_array)/len(loss_array)}\")\n",
    "        \n",
    "# baseline: 3.988993604144856\n",
    "# lora 5e-6: 3.984750234778462\n",
    "# lora 1e-5: 3.93418066213003"
   ]
  }
 ],
 "metadata": {
  "kernelspec": {
   "display_name": "base",
   "language": "python",
   "name": "python3"
  },
  "language_info": {
   "codemirror_mode": {
    "name": "ipython",
    "version": 3
   },
   "file_extension": ".py",
   "mimetype": "text/x-python",
   "name": "python",
   "nbconvert_exporter": "python",
   "pygments_lexer": "ipython3",
   "version": "3.10.14"
  }
 },
 "nbformat": 4,
 "nbformat_minor": 2
}
